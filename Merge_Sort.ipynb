{
 "cells": [
  {
   "cell_type": "code",
   "execution_count": 7,
   "id": "ac357396",
   "metadata": {},
   "outputs": [
    {
     "name": "stdout",
     "output_type": "stream",
     "text": [
      "['Bob', 'Philipp', 'Carlos', 'Vahe', 'Anton', 'Ethan', 'Dennis']\n",
      "['Anton', 'Bob', 'Carlos', 'Dennis', 'Ethan', 'Philipp', 'Vahe']\n",
      "[6, 8, 3, 9, 5, 4, 7, 2, 1]\n",
      "[1, 2, 3, 4, 5, 6, 7, 8, 9]\n"
     ]
    }
   ],
   "source": [
    "def merge_sort(list_):\n",
    "    if len(list_) < 2:\n",
    "        return list_\n",
    "\n",
    "    middle = len(list_) // 2\n",
    "    left = merge_sort(list_[:middle])\n",
    "    right = merge_sort(list_[middle:])\n",
    "\n",
    "    merged_list = reduce(left, right)\n",
    "    return merged_list\n",
    "\n",
    "def reduce(left, right):\n",
    "    if len(left) == 0 or len(right) == 0:\n",
    "        return []\n",
    "    \n",
    "    result = []\n",
    "    left_index = 0\n",
    "    right_index = 0\n",
    "\n",
    "    while True:\n",
    "        if left[left_index] < right[right_index]:\n",
    "            result.append(left[left_index])\n",
    "            left_index += 1\n",
    "        else:\n",
    "            result.append(right[right_index])\n",
    "            right_index += 1\n",
    "\n",
    "        if left_index == len(left):\n",
    "            result.extend(right[right_index:])\n",
    "            break\n",
    "        if right_index == len(right):\n",
    "            result.extend(left[left_index:])\n",
    "            break\n",
    "    return result\n",
    "\n",
    "strings = [\"Bob\",\"Philipp\",\"Carlos\",\"Vahe\",\"Anton\",\"Ethan\",\"Dennis\"] \n",
    "print(strings)\n",
    "sorted_strings = merge_sort(strings)\n",
    "print(sorted_strings)\n",
    "\n",
    "integers = [6,8,3,9,5,4,7,2,1]\n",
    "print(integers)\n",
    "sorted_integers = merge_sort(integers)\n",
    "print(sorted_integers)"
   ]
  }
 ],
 "metadata": {
  "kernelspec": {
   "display_name": "Python 3",
   "language": "python",
   "name": "python3"
  },
  "language_info": {
   "codemirror_mode": {
    "name": "ipython",
    "version": 3
   },
   "file_extension": ".py",
   "mimetype": "text/x-python",
   "name": "python",
   "nbconvert_exporter": "python",
   "pygments_lexer": "ipython3",
   "version": "3.6.13"
  }
 },
 "nbformat": 4,
 "nbformat_minor": 5
}
